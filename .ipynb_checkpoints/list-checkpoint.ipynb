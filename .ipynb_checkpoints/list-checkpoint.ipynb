{
 "cells": [
  {
   "cell_type": "code",
   "execution_count": 1,
   "metadata": {},
   "outputs": [
    {
     "ename": "SyntaxError",
     "evalue": "invalid syntax (<ipython-input-1-695f9eabb876>, line 1)",
     "output_type": "error",
     "traceback": [
      "\u001b[1;36m  File \u001b[1;32m\"<ipython-input-1-695f9eabb876>\"\u001b[1;36m, line \u001b[1;32m1\u001b[0m\n\u001b[1;33m    l1=[['garima',56,22,56]['annu',67,24,,78]['sheetal',67,24,56]]\u001b[0m\n\u001b[1;37m                                         ^\u001b[0m\n\u001b[1;31mSyntaxError\u001b[0m\u001b[1;31m:\u001b[0m invalid syntax\n"
     ]
    }
   ],
   "source": [
    "l1=[['garima',56,22,56]['annu',67,24,,78]['sheetal',67,24,56]]"
   ]
  },
  {
   "cell_type": "code",
   "execution_count": 2,
   "metadata": {},
   "outputs": [],
   "source": [
    "l1=[['garima',45,6,7],['a',6,7,8,],['b',3,7,8,],['c',3,2,3]]"
   ]
  },
  {
   "cell_type": "code",
   "execution_count": null,
   "metadata": {},
   "outputs": [],
   "source": []
  },
  {
   "cell_type": "code",
   "execution_count": null,
   "metadata": {},
   "outputs": [],
   "source": []
  },
  {
   "cell_type": "code",
   "execution_count": 3,
   "metadata": {},
   "outputs": [
    {
     "name": "stdout",
     "output_type": "stream",
     "text": [
      "[['garima', 45, 6, 7], ['a', 6, 7, 8], ['b', 3, 7, 8], ['c', 3, 2, 3]]\n"
     ]
    }
   ],
   "source": [
    "print(l1)"
   ]
  },
  {
   "cell_type": "code",
   "execution_count": 5,
   "metadata": {},
   "outputs": [
    {
     "name": "stdout",
     "output_type": "stream",
     "text": [
      "['garima', 45, 6, 7]\n",
      "['a', 6, 7, 8]\n",
      "['b', 3, 7, 8]\n",
      "['c', 3, 2, 3]\n"
     ]
    }
   ],
   "source": [
    "for item in l1 : #indencation errorfor item in pyt\n",
    "    print(item)"
   ]
  },
  {
   "cell_type": "code",
   "execution_count": 9,
   "metadata": {},
   "outputs": [
    {
     "name": "stdout",
     "output_type": "stream",
     "text": [
      "p\n",
      "________________________p_________________________\n",
      "y\n",
      "________________________y_________________________\n",
      "t\n",
      "________________________t_________________________\n",
      "h\n",
      "________________________h_________________________\n",
      "o\n",
      "________________________o_________________________\n",
      "n\n",
      "________________________n_________________________\n"
     ]
    }
   ],
   "source": [
    "for item in \"python\" :\n",
    "    print(item)\n",
    "    print(item.center(50,'_'))"
   ]
  },
  {
   "cell_type": "code",
   "execution_count": 17,
   "metadata": {},
   "outputs": [],
   "source": [
    "data = ['java','c']\n"
   ]
  },
  {
   "cell_type": "code",
   "execution_count": 18,
   "metadata": {},
   "outputs": [
    {
     "name": "stdout",
     "output_type": "stream",
     "text": [
      "None\n"
     ]
    }
   ],
   "source": [
    "x = data.append('c++')\n",
    "print(x)"
   ]
  },
  {
   "cell_type": "code",
   "execution_count": 20,
   "metadata": {},
   "outputs": [
    {
     "name": "stdout",
     "output_type": "stream",
     "text": [
      " \n",
      "x=25\n",
      "y=5\n",
      "x+y=30\n",
      "x-y=20\n",
      "x*y=125\n",
      "x/y=5\n",
      "\n"
     ]
    }
   ],
   "source": [
    "x=25\n",
    "y=5\n",
    "sum=x+y\n",
    "sub=x-y\n",
    "mul=x*y\n",
    "div=x/y\n",
    "s=\"\"\" \n",
    "x=%d\n",
    "y=%d\n",
    "x+y=%d\n",
    "x-y=%d\n",
    "x*y=%d\n",
    "x/y=%d\n",
    "\"\"\"%(x,y,sum,sub,mul,div)\n",
    "print(s)\n"
   ]
  },
  {
   "cell_type": "code",
   "execution_count": 23,
   "metadata": {},
   "outputs": [
    {
     "name": "stdout",
     "output_type": "stream",
     "text": [
      "a no25\n",
      "a no5\n",
      " \n",
      "x=25\n",
      "y=5\n",
      "x+y=30\n",
      "x-y=20\n",
      "x*y=125\n",
      "x/y=5\n",
      "\n"
     ]
    }
   ],
   "source": [
    "x=eval(input( \"a no\"))\n",
    "y=eval(input (\"a no\"))\n",
    "sum=x+y\n",
    "sub=x-y\n",
    "mul=x*y\n",
    "div=x/y\n",
    "s=\"\"\" \n",
    "x=%d\n",
    "y=%d\n",
    "x+y=%d\n",
    "x-y=%d\n",
    "x*y=%d\n",
    "x/y=%d\n",
    "\"\"\"%(x,y,sum,sub,mul,div)\n",
    "print(s)\n"
   ]
  },
  {
   "cell_type": "code",
   "execution_count": 24,
   "metadata": {},
   "outputs": [
    {
     "name": "stdout",
     "output_type": "stream",
     "text": [
      " Volume in drive C has no label.\n",
      " Volume Serial Number is E6AC-7AD3\n",
      "\n",
      " Directory of C:\\Users\\garima\\Desktop\\summer training\n",
      "\n",
      "05/15/2019  08:52 PM    <DIR>          .\n",
      "05/15/2019  08:52 PM    <DIR>          ..\n",
      "05/15/2019  07:43 PM    <DIR>          .ipynb_checkpoints\n",
      "05/15/2019  08:52 PM             4,910 list.ipynb\n",
      "05/14/2019  09:04 PM             9,717 strings.ipynb\n",
      "05/13/2019  09:36 PM             9,231 Untitled.ipynb\n",
      "05/14/2019  06:09 AM                 0 untitled.txt\n",
      "05/14/2019  10:36 AM            16,602 Untitled1.ipynb\n",
      "               5 File(s)         40,460 bytes\n",
      "               3 Dir(s)  49,084,751,872 bytes free\n"
     ]
    }
   ],
   "source": [
    "ls\n"
   ]
  },
  {
   "cell_type": "code",
   "execution_count": 26,
   "metadata": {},
   "outputs": [
    {
     "name": "stdout",
     "output_type": "stream",
     "text": [
      "a no4\n",
      "a no2\n",
      " \n",
      "x=4.000\n",
      "y=2.000\n",
      "x+y=6.000\n",
      "x-y=2.000\n",
      "x*y=8\n",
      "x/y=2.0\n",
      "\n"
     ]
    }
   ],
   "source": [
    "x=eval(input( \"a no\"))\n",
    "y=eval(input (\"a no\"))\n",
    "\n",
    "s=\"\"\" \n",
    "x={:.3f}\n",
    "y={:.3f}\n",
    "x+y={:.3f}\n",
    "x-y={:.3f}\n",
    "x*y={}\n",
    "x/y={}\n",
    "\"\"\".format(x,y,x+y,x-y,x*y,x/y)\n",
    "print(s)\n"
   ]
  },
  {
   "cell_type": "markdown",
   "metadata": {},
   "source": [
    "s=\"\"\"\n",
    "name=f\"{input(\"enter your name\")}\"\n",
    "\"\"\""
   ]
  },
  {
   "cell_type": "code",
   "execution_count": null,
   "metadata": {},
   "outputs": [],
   "source": []
  }
 ],
 "metadata": {
  "kernelspec": {
   "display_name": "Python 3",
   "language": "python",
   "name": "python3"
  },
  "language_info": {
   "codemirror_mode": {
    "name": "ipython",
    "version": 3
   },
   "file_extension": ".py",
   "mimetype": "text/x-python",
   "name": "python",
   "nbconvert_exporter": "python",
   "pygments_lexer": "ipython3",
   "version": "3.7.3"
  }
 },
 "nbformat": 4,
 "nbformat_minor": 2
}
